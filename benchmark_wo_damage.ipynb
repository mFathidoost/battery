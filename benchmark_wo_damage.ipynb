{
 "cells": [
  {
   "cell_type": "code",
   "execution_count": 1,
   "metadata": {},
   "outputs": [
    {
     "name": "stderr",
     "output_type": "stream",
     "text": [
      "Using TensorFlow backend.\n",
      "C:\\Users\\mfath\\Anaconda3\\lib\\site-packages\\tensorflow\\python\\framework\\dtypes.py:526: FutureWarning: Passing (type, 1) or '1type' as a synonym of type is deprecated; in a future version of numpy, it will be understood as (type, (1,)) / '(1,)type'.\n",
      "  _np_qint8 = np.dtype([(\"qint8\", np.int8, 1)])\n",
      "C:\\Users\\mfath\\Anaconda3\\lib\\site-packages\\tensorflow\\python\\framework\\dtypes.py:527: FutureWarning: Passing (type, 1) or '1type' as a synonym of type is deprecated; in a future version of numpy, it will be understood as (type, (1,)) / '(1,)type'.\n",
      "  _np_quint8 = np.dtype([(\"quint8\", np.uint8, 1)])\n",
      "C:\\Users\\mfath\\Anaconda3\\lib\\site-packages\\tensorflow\\python\\framework\\dtypes.py:528: FutureWarning: Passing (type, 1) or '1type' as a synonym of type is deprecated; in a future version of numpy, it will be understood as (type, (1,)) / '(1,)type'.\n",
      "  _np_qint16 = np.dtype([(\"qint16\", np.int16, 1)])\n",
      "C:\\Users\\mfath\\Anaconda3\\lib\\site-packages\\tensorflow\\python\\framework\\dtypes.py:529: FutureWarning: Passing (type, 1) or '1type' as a synonym of type is deprecated; in a future version of numpy, it will be understood as (type, (1,)) / '(1,)type'.\n",
      "  _np_quint16 = np.dtype([(\"quint16\", np.uint16, 1)])\n",
      "C:\\Users\\mfath\\Anaconda3\\lib\\site-packages\\tensorflow\\python\\framework\\dtypes.py:530: FutureWarning: Passing (type, 1) or '1type' as a synonym of type is deprecated; in a future version of numpy, it will be understood as (type, (1,)) / '(1,)type'.\n",
      "  _np_qint32 = np.dtype([(\"qint32\", np.int32, 1)])\n",
      "C:\\Users\\mfath\\Anaconda3\\lib\\site-packages\\tensorflow\\python\\framework\\dtypes.py:535: FutureWarning: Passing (type, 1) or '1type' as a synonym of type is deprecated; in a future version of numpy, it will be understood as (type, (1,)) / '(1,)type'.\n",
      "  np_resource = np.dtype([(\"resource\", np.ubyte, 1)])\n"
     ]
    }
   ],
   "source": [
    "import numpy as np\n",
    "import matplotlib.pyplot as plt\n",
    "from sklearn.svm import SVR\n",
    "%matplotlib inline\n",
    "import seaborn as sns\n",
    "from sklearn.model_selection import train_test_split\n",
    "import pandas as pd\n",
    "from sklearn import tree\n",
    "from sklearn.metrics import mean_squared_error ,mean_absolute_error\n",
    "from sklearn.preprocessing import StandardScaler \n",
    "from sklearn.preprocessing import MinMaxScaler \n",
    "\n",
    "from sklearn.tree import DecisionTreeRegressor\n",
    "from sklearn.neural_network import MLPRegressor\n",
    "from sklearn.metrics import mean_squared_error \n",
    "from sklearn.metrics import r2_score\n",
    "from keras.losses import MeanAbsolutePercentageError\n",
    "import joblib"
   ]
  },
  {
   "cell_type": "code",
   "execution_count": 2,
   "metadata": {},
   "outputs": [
    {
     "data": {
      "text/html": [
       "<div>\n",
       "<style scoped>\n",
       "    .dataframe tbody tr th:only-of-type {\n",
       "        vertical-align: middle;\n",
       "    }\n",
       "\n",
       "    .dataframe tbody tr th {\n",
       "        vertical-align: top;\n",
       "    }\n",
       "\n",
       "    .dataframe thead th {\n",
       "        text-align: right;\n",
       "    }\n",
       "</style>\n",
       "<table border=\"1\" class=\"dataframe\">\n",
       "  <thead>\n",
       "    <tr style=\"text-align: right;\">\n",
       "      <th></th>\n",
       "      <th>j</th>\n",
       "      <th>c_old</th>\n",
       "      <th>soc_old</th>\n",
       "      <th>c_dot</th>\n",
       "      <th>soc_dot</th>\n",
       "    </tr>\n",
       "  </thead>\n",
       "  <tbody>\n",
       "    <tr>\n",
       "      <th>0</th>\n",
       "      <td>-1.00000</td>\n",
       "      <td>0.500000</td>\n",
       "      <td>0.500000</td>\n",
       "      <td>99.70763</td>\n",
       "      <td>3.00000</td>\n",
       "    </tr>\n",
       "    <tr>\n",
       "      <th>1</th>\n",
       "      <td>-1.00000</td>\n",
       "      <td>0.509971</td>\n",
       "      <td>0.500300</td>\n",
       "      <td>66.16920</td>\n",
       "      <td>3.00000</td>\n",
       "    </tr>\n",
       "    <tr>\n",
       "      <th>2</th>\n",
       "      <td>-1.00000</td>\n",
       "      <td>0.516588</td>\n",
       "      <td>0.500600</td>\n",
       "      <td>49.71016</td>\n",
       "      <td>3.00000</td>\n",
       "    </tr>\n",
       "    <tr>\n",
       "      <th>3</th>\n",
       "      <td>-1.00000</td>\n",
       "      <td>0.521559</td>\n",
       "      <td>0.500900</td>\n",
       "      <td>40.67121</td>\n",
       "      <td>3.00000</td>\n",
       "    </tr>\n",
       "    <tr>\n",
       "      <th>4</th>\n",
       "      <td>-1.00000</td>\n",
       "      <td>0.525626</td>\n",
       "      <td>0.501200</td>\n",
       "      <td>35.12760</td>\n",
       "      <td>3.00000</td>\n",
       "    </tr>\n",
       "    <tr>\n",
       "      <th>...</th>\n",
       "      <td>...</td>\n",
       "      <td>...</td>\n",
       "      <td>...</td>\n",
       "      <td>...</td>\n",
       "      <td>...</td>\n",
       "    </tr>\n",
       "    <tr>\n",
       "      <th>6280</th>\n",
       "      <td>-0.00001</td>\n",
       "      <td>0.986665</td>\n",
       "      <td>0.986662</td>\n",
       "      <td>0.00003</td>\n",
       "      <td>0.00003</td>\n",
       "    </tr>\n",
       "    <tr>\n",
       "      <th>6281</th>\n",
       "      <td>-0.00001</td>\n",
       "      <td>0.990865</td>\n",
       "      <td>0.990862</td>\n",
       "      <td>0.00003</td>\n",
       "      <td>0.00003</td>\n",
       "    </tr>\n",
       "    <tr>\n",
       "      <th>6282</th>\n",
       "      <td>-0.00001</td>\n",
       "      <td>0.995065</td>\n",
       "      <td>0.995062</td>\n",
       "      <td>0.00003</td>\n",
       "      <td>0.00003</td>\n",
       "    </tr>\n",
       "    <tr>\n",
       "      <th>6283</th>\n",
       "      <td>-0.00001</td>\n",
       "      <td>0.999265</td>\n",
       "      <td>0.999262</td>\n",
       "      <td>0.00003</td>\n",
       "      <td>0.00003</td>\n",
       "    </tr>\n",
       "    <tr>\n",
       "      <th>6284</th>\n",
       "      <td>-0.00001</td>\n",
       "      <td>1.000003</td>\n",
       "      <td>1.000000</td>\n",
       "      <td>0.00003</td>\n",
       "      <td>0.00003</td>\n",
       "    </tr>\n",
       "  </tbody>\n",
       "</table>\n",
       "<p>6285 rows × 5 columns</p>\n",
       "</div>"
      ],
      "text/plain": [
       "            j     c_old   soc_old     c_dot  soc_dot\n",
       "0    -1.00000  0.500000  0.500000  99.70763  3.00000\n",
       "1    -1.00000  0.509971  0.500300  66.16920  3.00000\n",
       "2    -1.00000  0.516588  0.500600  49.71016  3.00000\n",
       "3    -1.00000  0.521559  0.500900  40.67121  3.00000\n",
       "4    -1.00000  0.525626  0.501200  35.12760  3.00000\n",
       "...       ...       ...       ...       ...      ...\n",
       "6280 -0.00001  0.986665  0.986662   0.00003  0.00003\n",
       "6281 -0.00001  0.990865  0.990862   0.00003  0.00003\n",
       "6282 -0.00001  0.995065  0.995062   0.00003  0.00003\n",
       "6283 -0.00001  0.999265  0.999262   0.00003  0.00003\n",
       "6284 -0.00001  1.000003  1.000000   0.00003  0.00003\n",
       "\n",
       "[6285 rows x 5 columns]"
      ]
     },
     "execution_count": 2,
     "metadata": {},
     "output_type": "execute_result"
    }
   ],
   "source": [
    "#read file\n",
    "read_file= pd.read_csv('ann_data_ec.txt', sep='\t')\n",
    "data=read_file.iloc[:,:5]\n",
    "data=data.dropna()\n",
    "data=data.astype(float)\n",
    "data\n",
    "#data.columns=['J','C_old','soc_old','C_dot','soc_dot','d']\n",
    "df=data\n",
    "df"
   ]
  },
  {
   "cell_type": "code",
   "execution_count": 3,
   "metadata": {},
   "outputs": [
    {
     "data": {
      "text/plain": [
       "[-1.0,\n",
       " -0.9,\n",
       " -0.8,\n",
       " -0.7,\n",
       " -0.6,\n",
       " -0.5,\n",
       " -0.4,\n",
       " -0.3,\n",
       " -0.2,\n",
       " -0.1,\n",
       " -0.09,\n",
       " -0.08,\n",
       " -0.07,\n",
       " -0.06,\n",
       " -0.05,\n",
       " -0.04,\n",
       " -0.03,\n",
       " -0.02,\n",
       " -0.01,\n",
       " -0.009000000000000001,\n",
       " -0.008,\n",
       " -0.006999999999999999,\n",
       " -0.006,\n",
       " -0.005,\n",
       " -0.004,\n",
       " -0.003,\n",
       " -0.002,\n",
       " -0.001,\n",
       " -0.0009,\n",
       " -0.0008,\n",
       " -0.0007,\n",
       " -0.0006,\n",
       " -0.0005,\n",
       " -0.0004,\n",
       " -0.0003,\n",
       " -0.0002,\n",
       " -0.0001,\n",
       " -9e-05,\n",
       " -8e-05,\n",
       " -7e-05,\n",
       " -5.9999999999999995e-05,\n",
       " -5e-05,\n",
       " -4e-05,\n",
       " -2.9999999999999997e-05,\n",
       " -2e-05,\n",
       " -1e-05]"
      ]
     },
     "execution_count": 3,
     "metadata": {},
     "output_type": "execute_result"
    }
   ],
   "source": [
    "list(dict.fromkeys(df['j']))"
   ]
  },
  {
   "cell_type": "code",
   "execution_count": 4,
   "metadata": {},
   "outputs": [],
   "source": [
    "#list(dict.fromkeys(df['j']))"
   ]
  },
  {
   "cell_type": "code",
   "execution_count": 5,
   "metadata": {},
   "outputs": [],
   "source": [
    "df=data"
   ]
  },
  {
   "cell_type": "code",
   "execution_count": 6,
   "metadata": {},
   "outputs": [],
   "source": [
    "df['j']=-np.log10( df['j']*-1)\n",
    "df['c_dot']=-np.log10( df['c_dot'])\n",
    "#df['j']=-np.log10( df['j']*-1)  "
   ]
  },
  {
   "cell_type": "code",
   "execution_count": 7,
   "metadata": {},
   "outputs": [
    {
     "data": {
      "text/plain": [
       "-0.0"
      ]
     },
     "execution_count": 7,
     "metadata": {},
     "output_type": "execute_result"
    }
   ],
   "source": [
    "min(df['j'])"
   ]
  },
  {
   "cell_type": "code",
   "execution_count": 8,
   "metadata": {},
   "outputs": [],
   "source": [
    "df=df[df['j']<3.1]\n",
    "df=df[df['j']>0.04575748]\n",
    "#df"
   ]
  },
  {
   "cell_type": "code",
   "execution_count": 9,
   "metadata": {},
   "outputs": [
    {
     "data": {
      "text/plain": [
       "[0.045757490560675115,\n",
       " 0.09691001300805639,\n",
       " 0.1549019599857432,\n",
       " 0.2218487496163564,\n",
       " 0.3010299956639812,\n",
       " 0.3979400086720376,\n",
       " 0.5228787452803376,\n",
       " 0.6989700043360187,\n",
       " 1.0,\n",
       " 1.0457574905606752,\n",
       " 1.0969100130080565,\n",
       " 1.154901959985743,\n",
       " 1.2218487496163564,\n",
       " 1.3010299956639813,\n",
       " 1.3979400086720375,\n",
       " 1.5228787452803376,\n",
       " 1.6989700043360187,\n",
       " 2.0,\n",
       " 2.0457574905606752,\n",
       " 2.0969100130080562,\n",
       " 2.154901959985743,\n",
       " 2.221848749616356,\n",
       " 2.3010299956639813,\n",
       " 2.3979400086720375,\n",
       " 2.5228787452803374,\n",
       " 2.6989700043360187,\n",
       " 3.0,\n",
       " 3.0457574905606752,\n",
       " 3.0969100130080562]"
      ]
     },
     "execution_count": 9,
     "metadata": {},
     "output_type": "execute_result"
    }
   ],
   "source": [
    "list(dict.fromkeys(df['j']))"
   ]
  },
  {
   "cell_type": "code",
   "execution_count": 10,
   "metadata": {},
   "outputs": [
    {
     "data": {
      "text/html": [
       "<div>\n",
       "<style scoped>\n",
       "    .dataframe tbody tr th:only-of-type {\n",
       "        vertical-align: middle;\n",
       "    }\n",
       "\n",
       "    .dataframe tbody tr th {\n",
       "        vertical-align: top;\n",
       "    }\n",
       "\n",
       "    .dataframe thead th {\n",
       "        text-align: right;\n",
       "    }\n",
       "</style>\n",
       "<table border=\"1\" class=\"dataframe\">\n",
       "  <thead>\n",
       "    <tr style=\"text-align: right;\">\n",
       "      <th></th>\n",
       "      <th>j</th>\n",
       "      <th>c_old</th>\n",
       "      <th>soc_old</th>\n",
       "      <th>c_dot</th>\n",
       "      <th>soc_dot</th>\n",
       "    </tr>\n",
       "  </thead>\n",
       "  <tbody>\n",
       "    <tr>\n",
       "      <th>124</th>\n",
       "      <td>0.045757</td>\n",
       "      <td>0.500000</td>\n",
       "      <td>0.500000</td>\n",
       "      <td>-1.952971</td>\n",
       "      <td>2.7000</td>\n",
       "    </tr>\n",
       "    <tr>\n",
       "      <th>125</th>\n",
       "      <td>0.045757</td>\n",
       "      <td>0.508974</td>\n",
       "      <td>0.500270</td>\n",
       "      <td>-1.774898</td>\n",
       "      <td>2.7000</td>\n",
       "    </tr>\n",
       "    <tr>\n",
       "      <th>126</th>\n",
       "      <td>0.045757</td>\n",
       "      <td>0.514929</td>\n",
       "      <td>0.500540</td>\n",
       "      <td>-1.650688</td>\n",
       "      <td>2.7000</td>\n",
       "    </tr>\n",
       "    <tr>\n",
       "      <th>127</th>\n",
       "      <td>0.045757</td>\n",
       "      <td>0.519403</td>\n",
       "      <td>0.500810</td>\n",
       "      <td>-1.563530</td>\n",
       "      <td>2.7000</td>\n",
       "    </tr>\n",
       "    <tr>\n",
       "      <th>128</th>\n",
       "      <td>0.045757</td>\n",
       "      <td>0.523063</td>\n",
       "      <td>0.501080</td>\n",
       "      <td>-1.499891</td>\n",
       "      <td>2.7000</td>\n",
       "    </tr>\n",
       "    <tr>\n",
       "      <th>...</th>\n",
       "      <td>...</td>\n",
       "      <td>...</td>\n",
       "      <td>...</td>\n",
       "      <td>...</td>\n",
       "      <td>...</td>\n",
       "    </tr>\n",
       "    <tr>\n",
       "      <th>4136</th>\n",
       "      <td>3.096910</td>\n",
       "      <td>0.987184</td>\n",
       "      <td>0.986955</td>\n",
       "      <td>2.619789</td>\n",
       "      <td>0.0024</td>\n",
       "    </tr>\n",
       "    <tr>\n",
       "      <th>4137</th>\n",
       "      <td>3.096910</td>\n",
       "      <td>0.991024</td>\n",
       "      <td>0.990795</td>\n",
       "      <td>2.619789</td>\n",
       "      <td>0.0024</td>\n",
       "    </tr>\n",
       "    <tr>\n",
       "      <th>4138</th>\n",
       "      <td>3.096910</td>\n",
       "      <td>0.994864</td>\n",
       "      <td>0.994635</td>\n",
       "      <td>2.619789</td>\n",
       "      <td>0.0024</td>\n",
       "    </tr>\n",
       "    <tr>\n",
       "      <th>4139</th>\n",
       "      <td>3.096910</td>\n",
       "      <td>0.998704</td>\n",
       "      <td>0.998475</td>\n",
       "      <td>2.619789</td>\n",
       "      <td>0.0024</td>\n",
       "    </tr>\n",
       "    <tr>\n",
       "      <th>4140</th>\n",
       "      <td>3.096910</td>\n",
       "      <td>1.000000</td>\n",
       "      <td>0.999771</td>\n",
       "      <td>2.619789</td>\n",
       "      <td>0.0024</td>\n",
       "    </tr>\n",
       "  </tbody>\n",
       "</table>\n",
       "<p>4017 rows × 5 columns</p>\n",
       "</div>"
      ],
      "text/plain": [
       "             j     c_old   soc_old     c_dot  soc_dot\n",
       "124   0.045757  0.500000  0.500000 -1.952971   2.7000\n",
       "125   0.045757  0.508974  0.500270 -1.774898   2.7000\n",
       "126   0.045757  0.514929  0.500540 -1.650688   2.7000\n",
       "127   0.045757  0.519403  0.500810 -1.563530   2.7000\n",
       "128   0.045757  0.523063  0.501080 -1.499891   2.7000\n",
       "...        ...       ...       ...       ...      ...\n",
       "4136  3.096910  0.987184  0.986955  2.619789   0.0024\n",
       "4137  3.096910  0.991024  0.990795  2.619789   0.0024\n",
       "4138  3.096910  0.994864  0.994635  2.619789   0.0024\n",
       "4139  3.096910  0.998704  0.998475  2.619789   0.0024\n",
       "4140  3.096910  1.000000  0.999771  2.619789   0.0024\n",
       "\n",
       "[4017 rows x 5 columns]"
      ]
     },
     "execution_count": 10,
     "metadata": {},
     "output_type": "execute_result"
    }
   ],
   "source": [
    "df"
   ]
  },
  {
   "cell_type": "code",
   "execution_count": 11,
   "metadata": {},
   "outputs": [],
   "source": [
    "#df=df[df['J']<-0.001]\n"
   ]
  },
  {
   "cell_type": "code",
   "execution_count": 12,
   "metadata": {},
   "outputs": [],
   "source": [
    "#data_num = data.to_numpy()\n",
    "#print(data_num[0,:])"
   ]
  },
  {
   "cell_type": "code",
   "execution_count": 13,
   "metadata": {},
   "outputs": [],
   "source": [
    "#reduced_data = np.array([])\n",
    "#reduced_data2 = np.array([])\n",
    "\n",
    "#number = 0\n",
    "\n",
    "# for i in data_num[:]:\n",
    "    \n",
    "#     if i[0] <= -0.25:\n",
    "        \n",
    "#         number += 1\n",
    "#         #print(number)\n",
    "#         reduced_data = np.append(reduced_data, i, axis = 0 )\n",
    "#         #reduced_data.append(i)\n",
    "    \n",
    "#     else:\n",
    "        #max\n",
    "#         reduced_data2 = np.append(reduced_data2, i, axis = 0 )\n",
    "        \n",
    "    \n",
    "# reduced_data = np.reshape(reduced_data, (int(reduced_data.shape[0]/3), 3))\n",
    "\n",
    "# print(\" number of elements for j < -0. 25 size is \",reduced_data.shape)\n",
    "\n",
    "\n",
    "# reduced_data2 = np.reshape(reduced_data2, (int(reduced_data2.shape[0]/3), 3))\n",
    "\n",
    "# print(\" number of elements for j > -0. 25 size is \", reduced_data2.shape)\n",
    "\n",
    "# print( \"In total there are  \" + str(int(reduced_data.shape[0]) + int(reduced_data2.shape[0])) + \" samples\")\n"
   ]
  },
  {
   "cell_type": "code",
   "execution_count": 14,
   "metadata": {},
   "outputs": [],
   "source": [
    "#plt.hist(reduced_data[:,0])"
   ]
  },
  {
   "cell_type": "code",
   "execution_count": 15,
   "metadata": {},
   "outputs": [],
   "source": [
    "#plt.hist(reduced_data2[:,0])"
   ]
  },
  {
   "cell_type": "code",
   "execution_count": 16,
   "metadata": {},
   "outputs": [
    {
     "data": {
      "image/png": "[encoded data removed]",
      "text/plain": [
       "<Figure size 432x288 with 1 Axes>"
      ]
     },
     "metadata": {
      "needs_background": "light"
     },
     "output_type": "display_data"
    }
   ],
   "source": [
    "plt.hist(df['c_old'])\n",
    "# #plt.ylim(0.2,0.4)\n",
    "# plt.xlim(-0.1,0)\n",
    "plt.show()"
   ]
  },
  {
   "cell_type": "code",
   "execution_count": 17,
   "metadata": {},
   "outputs": [
    {
     "data": {
      "image/png": "[encoded data removed]",
      "text/plain": [
       "<Figure size 432x288 with 1 Axes>"
      ]
     },
     "metadata": {
      "needs_background": "light"
     },
     "output_type": "display_data"
    }
   ],
   "source": [
    "plt.hist(df['j'],bins=50)\n",
    "# #plt.ylim(0.2,0.4)\n",
    "# plt.xlim(-0.1,0)\n",
    "plt.show()"
   ]
  },
  {
   "cell_type": "code",
   "execution_count": 18,
   "metadata": {},
   "outputs": [
    {
     "data": {
      "image/png": "[encoded data removed]",
      "text/plain": [
       "<Figure size 432x288 with 1 Axes>"
      ]
     },
     "metadata": {
      "needs_background": "light"
     },
     "output_type": "display_data"
    }
   ],
   "source": [
    "plt.hist(df['soc_dot'],bins=100)\n",
    "# #plt.ylim(0.2,0.4)\n",
    "# plt.xlim(-0.1,0)\n",
    "plt.show()"
   ]
  },
  {
   "cell_type": "code",
   "execution_count": 19,
   "metadata": {},
   "outputs": [
    {
     "name": "stdout",
     "output_type": "stream",
     "text": [
      "-1.9529709173762972\n",
      "2.619788758288394\n"
     ]
    }
   ],
   "source": [
    "print(min(df['c_dot']))\n",
    "print(max(df['c_dot']))"
   ]
  },
  {
   "cell_type": "markdown",
   "metadata": {},
   "source": [
    "## transformation"
   ]
  },
  {
   "cell_type": "code",
   "execution_count": 20,
   "metadata": {},
   "outputs": [],
   "source": [
    "X=df.iloc[:,0:3]\n",
    "y=df.iloc[:,3:5]\n",
    "X_train, X_test, y_train, y_test= train_test_split(X, y, test_size=0.25,random_state=40)\n",
    "\n",
    "from sklearn.preprocessing import MinMaxScaler \n",
    "#scaler = StandardScaler()\n",
    "\n",
    "scaler = MinMaxScaler()\n",
    "\n",
    "scaler.fit(X_train)\n",
    "X_train_scaled_data=scaler.transform(X_train)\n",
    "X_test_scaled_data=scaler.transform(X_test)\n",
    "\n",
    "scaler_y = MinMaxScaler()\n",
    "\n",
    "#scaler_y = StandardScaler()\n",
    "scaler_y.fit(np.array(y_train))\n",
    "y_train_scaled_data=scaler_y.transform(np.array(y_train))\n",
    "y_test_scaled_data=scaler_y.transform(np.array(y_test))"
   ]
  },
  {
   "cell_type": "code",
   "execution_count": 21,
   "metadata": {},
   "outputs": [
    {
     "name": "stdout",
     "output_type": "stream",
     "text": [
      "(3012, 2)\n"
     ]
    }
   ],
   "source": [
    "#print(np.shape(X_test_scaled_data))\n",
    "print(np.shape(y_train_scaled_data))"
   ]
  },
  {
   "cell_type": "code",
   "execution_count": 22,
   "metadata": {},
   "outputs": [],
   "source": [
    "#sns.pairplot(df, plot_kws={\"s\": 2})"
   ]
  },
  {
   "cell_type": "code",
   "execution_count": 23,
   "metadata": {},
   "outputs": [],
   "source": [
    "#plt.hist(X['C_old'])"
   ]
  },
  {
   "cell_type": "code",
   "execution_count": null,
   "metadata": {},
   "outputs": [],
   "source": [
    "#plt.hist(X['J'])"
   ]
  },
  {
   "cell_type": "code",
   "execution_count": null,
   "metadata": {},
   "outputs": [],
   "source": [
    "# ## Hyperperameter checking, takes very long time (BATCH)\n",
    "\n",
    "\n",
    "# t = np.linspace(10,300,20)\n",
    "\n",
    "# log_mse = []\n",
    "# log_mae = []\n",
    "\n",
    "# for i in t:\n",
    "\n",
    "\n",
    "#     mlp=MLPRegressor(\n",
    "#     hidden_layer_sizes=(11*64,),\n",
    "#     activation='relu',\n",
    "#     solver='adam',\n",
    "#     alpha=0.0001,\n",
    "#     batch_size=int(i),\n",
    "#     learning_rate='invscaling',\n",
    "#     learning_rate_init=0.001,\n",
    "#     power_t= 0.9,\n",
    "#     max_iter=20000,\n",
    "#     shuffle=False,\n",
    "#     random_state=None,\n",
    "#     tol=1e-08,\n",
    "#     verbose=True,\n",
    "#     warm_start=False,\n",
    "#     momentum=0.9,\n",
    "#     nesterovs_momentum=True,\n",
    "#     early_stopping=False,\n",
    "#     validation_fraction=0.1,\n",
    "#     beta_1=0.9,\n",
    "#     beta_2=0.999,\n",
    "#     epsilon=1e-08,\n",
    "#     n_iter_no_change=10,\n",
    "#        )\n",
    "#     M11_s=mlp.fit(X_train_scaled_data, y_train_scaled_data)\n",
    "#     y_pred = M11_s.predict(X_test_scaled_data)\n",
    "#     y_pred_train= M11_s.predict(X_train_scaled_data)\n",
    "#     mseMLP = mean_squared_error(y_test_scaled_data, y_pred)\n",
    "#     maeMLP = mean_absolute_error(y_test_scaled_data, y_pred)\n",
    "#     print(\"Train R2 score MLP: {:.5f}\".format(M11_s .score(X_train_scaled_data, y_train_scaled_data)))\n",
    "#     print(\"Test R2 score MLP: {:.5f}\".format(M11_s.score(X_test_scaled_data, y_test_scaled_data)))\n",
    "#     print(\"MSE MLP: %.4f\" % mseMLP)\n",
    "#     print(\"MAE MLP:\", maeMLP)\n",
    "#     #filename = 'MLP_02022021_BB.sav'\n",
    "#     #joblib.dump(M11_s, filename)\n",
    "    \n",
    "#     log_mse.append(mseMLP)\n",
    "#     log_mae.append(maeMLP)\n",
    "    \n",
    "# plt.plot(t,log_mse)\n",
    "# plt.figure()\n",
    "# plt.plot(t,log_mae)\n"
   ]
  },
  {
   "cell_type": "code",
   "execution_count": null,
   "metadata": {},
   "outputs": [],
   "source": [
    "# #### ## Hyperperameter checking (neuron), takes very long time (alpha)\n",
    "\n",
    "\n",
    "# t = np.linspace(1,200,10)\n",
    "\n",
    "# log_mse = []\n",
    "# log_mae = []\n",
    "\n",
    "# for i in t:\n",
    "\n",
    "\n",
    "#     mlp=MLPRegressor(\n",
    "#     hidden_layer_sizes=(11*64,),\n",
    "#     activation='relu',\n",
    "#     solver='adam',\n",
    "#     alpha=0.0000001*i,\n",
    "#     batch_size=int(170),\n",
    "#     learning_rate='invscaling',\n",
    "#     learning_rate_init=0.001,\n",
    "#     power_t= 0.9,\n",
    "#     max_iter=20000,\n",
    "#     shuffle=False,\n",
    "#     random_state=None,\n",
    "#     tol=1e-08,\n",
    "#     verbose=False,\n",
    "#     warm_start=False,\n",
    "#     momentum=0.9,\n",
    "#     nesterovs_momentum=True,\n",
    "#     early_stopping=False,\n",
    "#     validation_fraction=0.1,\n",
    "#     beta_1=0.9,\n",
    "#     beta_2=0.999,\n",
    "#     epsilon=1e-08,\n",
    "#     n_iter_no_change=10,\n",
    "#        )\n",
    "#     M11_s=mlp.fit(X_train_scaled_data, y_train_scaled_data)\n",
    "#     y_pred = M11_s.predict(X_test_scaled_data)\n",
    "#     y_pred_train= M11_s.predict(X_train_scaled_data)\n",
    "#     mseMLP = mean_squared_error(y_test_scaled_data, y_pred)\n",
    "#     maeMLP = mean_absolute_error(y_test_scaled_data, y_pred)\n",
    "#     print(\"Train R2 score MLP: {:.5f}\".format(M11_s .score(X_train_scaled_data, y_train_scaled_data)))\n",
    "#     print(\"Test R2 score MLP: {:.5f}\".format(M11_s.score(X_test_scaled_data, y_test_scaled_data)))\n",
    "#     print(\"MSE MLP: %.4f\" % mseMLP)\n",
    "#     print(\"MAE MLP:\", maeMLP)\n",
    "#     #filename = 'MLP_02022021_BB.sav'\n",
    "#     #joblib.dump(M11_s, filename)\n",
    "    \n",
    "    \n",
    "    \n",
    "#     log_mse.append(mseMLP)\n",
    "#     log_mae.append(maeMLP)\n",
    "    \n",
    "# plt.plot(t,log_mse)\n",
    "# plt.figure()\n",
    "# plt.plot(t,log_mae)\n"
   ]
  },
  {
   "cell_type": "code",
   "execution_count": null,
   "metadata": {},
   "outputs": [],
   "source": [
    "# ## Hyperperameter checking (neuron), takes very long time (neuron)\n",
    "\n",
    "\n",
    "# t = range(1,120,10)\n",
    "\n",
    "# log_mse = []\n",
    "# log_mae = []\n",
    "\n",
    "# for i in t:\n",
    "\n",
    "\n",
    "#     mlp=MLPRegressor(\n",
    "#     hidden_layer_sizes=(i*64,),\n",
    "#     activation='relu',\n",
    "#     solver='adam',\n",
    "#     alpha=0.002,\n",
    "#     batch_size=300,\n",
    "#     learning_rate='invscaling',\n",
    "#     learning_rate_init=0.001,\n",
    "#     power_t= 0.9,\n",
    "#     max_iter=20000,\n",
    "#     shuffle=False,\n",
    "#     random_state=None,\n",
    "#     tol=1e-08,\n",
    "#     verbose=True,\n",
    "#     warm_start=False,\n",
    "#     momentum=0.9,\n",
    "#     nesterovs_momentum=True,\n",
    "#     early_stopping=False,\n",
    "#     validation_fraction=0.1,\n",
    "#     beta_1=0.9,\n",
    "#     beta_2=0.999,\n",
    "#     epsilon=1e-08,\n",
    "#     n_iter_no_change=10,\n",
    "#        )\n",
    "#     M11_s=mlp.fit(X_train_scaled_data, y_train_scaled_data)\n",
    "#     y_pred = M11_s.predict(X_test_scaled_data)\n",
    "#     y_pred_train= M11_s.predict(X_train_scaled_data)\n",
    "#     mseMLP = mean_squared_error(y_test_scaled_data, y_pred)\n",
    "#     maeMLP = mean_absolute_error(y_test_scaled_data, y_pred)\n",
    "#     print(\"Train R2 score MLP: {:.5f}\".format(M11_s .score(X_train_scaled_data, y_train_scaled_data)))\n",
    "#     print(\"Test R2 score MLP: {:.5f}\".format(M11_s.score(X_test_scaled_data, y_test_scaled_data)))\n",
    "#     print(\"MSE MLP: %.4f\" % mseMLP)\n",
    "#     print(\"MAE MLP:\", maeMLP)\n",
    "#     #filename = 'MLP_02022021_BB.sav'\n",
    "#     #joblib.dump(M11_s, filename)\n",
    "    \n",
    "#     log_mse.append(mseMLP)\n",
    "#     log_mae.append(maeMLP)\n",
    "    \n",
    "# plt.plot(t,log_mse)\n",
    "# plt.figure()\n",
    "# plt.plot(t,log_mae)\n"
   ]
  },
  {
   "cell_type": "code",
   "execution_count": null,
   "metadata": {},
   "outputs": [],
   "source": [
    "# #build model with the best hyper parameters from the aboce cells:\n",
    "# mlp=MLPRegressor(\n",
    "#    hidden_layer_sizes=(11*64,),\n",
    "#    activation='relu',\n",
    "#    solver='adam',\n",
    "#    alpha=0.00001,\n",
    "#    batch_size=300,\n",
    "#    learning_rate='invscaling',\n",
    "#    learning_rate_init=0.001,\n",
    "#    power_t= 0.9,\n",
    "#    max_iter=200000,\n",
    "#    shuffle=False,\n",
    "#    random_state=None,\n",
    "#    tol=1e-08,\n",
    "#    verbose=False,\n",
    "#    warm_start=False,\n",
    "#    momentum=0.9,\n",
    "#    nesterovs_momentum=True,\n",
    "#    early_stopping=True,\n",
    "#    validation_fraction=0.1,\n",
    "#    beta_1=0.9,\n",
    "#    beta_2=0.999,\n",
    "#    epsilon=1e-08,\n",
    "#    n_iter_no_change=10,\n",
    "#    )\n",
    "# #M11_s=mlp.fit(X_train_scaled_data, y_train_scaled_data)\n",
    "\n",
    "# y_pred = M11_s.predict(X_test_scaled_data)\n",
    "# y_pred_train= M11_s.predict(X_train_scaled_data)\n",
    "# mseMLP = mean_squared_error(y_test_scaled_data, y_pred)\n",
    "# maeMLP = mean_absolute_error(y_test_scaled_data, y_pred)\n",
    "# print(\"Train R2 score MLP: {:.5f}\".format(M11_s .score(X_train_scaled_data, y_train_scaled_data)))\n",
    "# print(\"Test R2 score MLP: {:.5f}\".format(M11_s.score(X_test_scaled_data, y_test_scaled_data)))\n",
    "# print(\"MSE MLP: %.4f\" % mseMLP)  \n",
    "# print(\"MAE MLP:\", maeMLP)\n",
    "# #filename = 'MLP_02022021_BB.sav'\n",
    "# #joblib.dump(M11_s, filename)"
   ]
  },
  {
   "cell_type": "code",
   "execution_count": null,
   "metadata": {},
   "outputs": [],
   "source": [
    "#filename = 'MLP_160321_MaxMinScale_log_soc_ec_v5.sav'\n",
    "#joblib.dump(M11_s, filename)"
   ]
  },
  {
   "cell_type": "code",
   "execution_count": 26,
   "metadata": {},
   "outputs": [
    {
     "name": "stdout",
     "output_type": "stream",
     "text": [
      "R2 train MLP: 0.9981807204854328\n",
      "R2 test MLP:} 0.9979638492199207\n",
      "MAE train MLP: 0.0028437709101099837\n",
      "MAE test MLP: 0.002892951051839128\n",
      "MSE train MLP: 9.52829054640639e-05\n",
      "MSE test MLP: 0.00010584076826252408\n"
     ]
    },
    {
     "name": "stderr",
     "output_type": "stream",
     "text": [
      "C:\\Users\\mfath\\Anaconda3\\lib\\site-packages\\sklearn\\base.py:318: UserWarning: Trying to unpickle estimator MLPRegressor from version 0.24.0 when using version 0.22.2.post1. This might lead to breaking code or invalid results. Use at your own risk.\n",
      "  UserWarning)\n"
     ]
    }
   ],
   "source": [
    "#load the saved model and test the performance\n",
    "import joblib\n",
    "M11_s= joblib.load('MLP_160321_MaxMinScale_log_soc_ec_v4.sav')\n",
    "y_pred = M11_s.predict(X_test_scaled_data)\n",
    "y_pred_train= M11_s.predict(X_train_scaled_data)\n",
    "mseMLP = mean_squared_error(y_test_scaled_data, y_pred)\n",
    "\n",
    "\n",
    "print(\"R2 train MLP:\", r2_score(y_train_scaled_data, y_pred_train))\n",
    "print(\"R2 test MLP:}\", r2_score(y_test_scaled_data, y_pred))\n",
    "\n",
    "print(\"MAE train MLP:\", mean_absolute_error(y_train_scaled_data, y_pred_train))\n",
    "print(\"MAE test MLP:\", mean_absolute_error(y_test_scaled_data, y_pred))\n",
    "\n",
    "print(\"MSE train MLP:\", mean_squared_error(y_train_scaled_data, y_pred_train))\n",
    "print(\"MSE test MLP:\", mean_squared_error(y_test_scaled_data, y_pred))\n",
    "\n",
    "\n",
    "\n",
    "# print(\"Train R2 score MLP: {:.7f}\".format(M11_s.score(X_train_scaled_data, y_train_scaled_data)))\n",
    "# print(\"Test R2 score MLP: {:.7f}\".format(M11_s.score(X_test_scaled_data, y_test_scaled_data)))\n",
    "# print(\"MSE MLP: %.7f\" % mseMLP)\n",
    "# print(\"MAE MLP:\", mean_absolute_error(y_test_scaled_data, y_pred))"
   ]
  },
  {
   "cell_type": "code",
   "execution_count": 27,
   "metadata": {},
   "outputs": [
    {
     "data": {
      "text/plain": [
       "<matplotlib.legend.Legend at 0x1754e9a1da0>"
      ]
     },
     "execution_count": 27,
     "metadata": {},
     "output_type": "execute_result"
    },
    {
     "data": {
      "image/png": "[encoded data removed]",
      "text/plain": [
       "<Figure size 432x288 with 1 Axes>"
      ]
     },
     "metadata": {
      "needs_background": "light"
     },
     "output_type": "display_data"
    }
   ],
   "source": [
    "plt.scatter(np.array(y_train.iloc[:,0]),scaler_y.inverse_transform(y_pred_train)[:,0],label='train')\n",
    "plt.scatter(np.array(y_test.iloc[:,0]),scaler_y.inverse_transform(y_pred)[:,0],label='test')\n",
    "plt.xlabel('C-dot calculated Numerically')\n",
    "plt.ylabel('C-dot predicted by ML Model')\n",
    "\n",
    "lims = [y_test.iloc[:,0].min(), y_test.iloc[:,0].max()]\n",
    "plt.xlim(lims)\n",
    "plt.ylim(lims)\n",
    "_ = plt.plot(lims, lims)\n",
    "\n",
    "_ = plt.plot(lims, lims)\n",
    "plt.legend()"
   ]
  },
  {
   "cell_type": "code",
   "execution_count": 28,
   "metadata": {},
   "outputs": [
    {
     "data": {
      "text/plain": [
       "<matplotlib.legend.Legend at 0x1754ea2d6d8>"
      ]
     },
     "execution_count": 28,
     "metadata": {},
     "output_type": "execute_result"
    },
    {
     "data": {
      "image/png": "[encoded data removed]",
      "text/plain": [
       "<Figure size 432x288 with 1 Axes>"
      ]
     },
     "metadata": {
      "needs_background": "light"
     },
     "output_type": "display_data"
    }
   ],
   "source": [
    "plt.scatter(np.array(y_train.iloc[:,1]),scaler_y.inverse_transform(y_pred_train)[:,1],marker='x',label='train')\n",
    "plt.scatter(np.array(y_test.iloc[:,1]),scaler_y.inverse_transform(y_pred)[:,1],marker='.',label='test')\n",
    "plt.xlabel('soc-dot calculated Numerically')\n",
    "plt.ylabel('soc-dot predicted by ML Model')\n",
    "\n",
    "lims = [y_test.iloc[:,1].min(), y_test.iloc[:,1].max()]\n",
    "plt.xlim(lims)\n",
    "plt.ylim(lims)\n",
    "#_ = plt.plot(lims, lims,color='g')\n",
    "\n",
    "#_ = plt.plot(lims, lims)\n",
    "plt.legend()"
   ]
  },
  {
   "cell_type": "code",
   "execution_count": 29,
   "metadata": {},
   "outputs": [
    {
     "data": {
      "text/plain": [
       "[0.045757490560675115,\n",
       " 0.09691001300805639,\n",
       " 0.1549019599857432,\n",
       " 0.2218487496163564,\n",
       " 0.3010299956639812,\n",
       " 0.3979400086720376,\n",
       " 0.5228787452803376,\n",
       " 0.6989700043360187,\n",
       " 1.0,\n",
       " 1.0457574905606752,\n",
       " 1.0969100130080565,\n",
       " 1.154901959985743,\n",
       " 1.2218487496163564,\n",
       " 1.3010299956639813,\n",
       " 1.3979400086720375,\n",
       " 1.5228787452803376,\n",
       " 1.6989700043360187,\n",
       " 2.0,\n",
       " 2.0457574905606752,\n",
       " 2.0969100130080562,\n",
       " 2.154901959985743,\n",
       " 2.221848749616356,\n",
       " 2.3010299956639813,\n",
       " 2.3979400086720375,\n",
       " 2.5228787452803374,\n",
       " 2.6989700043360187,\n",
       " 3.0,\n",
       " 3.0457574905606752,\n",
       " 3.0969100130080562]"
      ]
     },
     "execution_count": 29,
     "metadata": {},
     "output_type": "execute_result"
    }
   ],
   "source": [
    "list(dict.fromkeys(df['j']))"
   ]
  },
  {
   "cell_type": "code",
   "execution_count": null,
   "metadata": {},
   "outputs": [],
   "source": [
    "###########################################################################################"
   ]
  },
  {
   "cell_type": "code",
   "execution_count": null,
   "metadata": {},
   "outputs": [],
   "source": [
    "# np.savetxt('scaledLOG_J_16032021.txt',X_train_scaled_data[:,0])\n",
    "# np.savetxt('scaled_c_dot_16032021.txt',X_train_scaled_data[:,1])\n",
    "# np.savetxt('scaled_soc_dot_16032021.txt',X_train_scaled_data[:,2])\n",
    "# np.savetxt('scaled_y1_16032021.txt',y_train_scaled_data[:,0])\n",
    "# np.savetxt('scaled_y2_16032021.txt',y_train_scaled_data[:,1])\n",
    "# #np.savetxt('scaled_y3_5032021.txt',y_train_scaled_data[:,2])"
   ]
  },
  {
   "cell_type": "code",
   "execution_count": null,
   "metadata": {},
   "outputs": [],
   "source": [
    "# np.savetxt('weight1_row1_16032021.txt',M11_s.coefs_[0][0,:])\n",
    "# np.savetxt('weight1_row2_16032021.txt',M11_s.coefs_[0][1,:])\n",
    "# np.savetxt('weight1_row3_16032021.txt',M11_s.coefs_[0][2,:])"
   ]
  },
  {
   "cell_type": "code",
   "execution_count": null,
   "metadata": {},
   "outputs": [],
   "source": [
    "# np.savetxt('weight2_c1_16032021.txt',M11_s.coefs_[1][:,0])\n",
    "# np.savetxt('weight2_c2_160322021.txt',M11_s.coefs_[1][:,1])\n",
    "# #np.savetxt('weight2_c3_15032021.txt',M11_s.coefs_[1][:,2])\n"
   ]
  },
  {
   "cell_type": "code",
   "execution_count": null,
   "metadata": {},
   "outputs": [],
   "source": [
    "# np.savetxt('bias1_16032021.txt',M11_s.intercepts_[0])\n",
    "# np.savetxt('bias2_16032021_.txt',M11_s.intercepts_[1])"
   ]
  },
  {
   "cell_type": "code",
   "execution_count": null,
   "metadata": {},
   "outputs": [],
   "source": [
    "# np.savetxt('J_16032021.txt',X_train.iloc[:,0])\n",
    "# np.savetxt('cOld_16032021.txt',X_train.iloc[:,1])\n",
    "# np.savetxt('soc_dot_16032021.txt',X_train.iloc[:,2])\n"
   ]
  },
  {
   "cell_type": "code",
   "execution_count": null,
   "metadata": {},
   "outputs": [],
   "source": [
    "# np.savetxt('y1_16032021.txt',y_train.iloc[:,0])\n",
    "# np.savetxt('y2_16032021.txt',y_train.iloc[:,1])\n",
    "# #np.savetxt('y3_16032021.txt',y_train.iloc[:,2])"
   ]
  },
  {
   "cell_type": "code",
   "execution_count": null,
   "metadata": {},
   "outputs": [],
   "source": [
    "#np.savetxt('J_16032021.txt',X_train.iloc[:,0])\n",
    "#np.savetxt('cOld_16032021.txt',X_train.iloc[:,1])\n",
    "#np.savetxt('soc_dot_16032021.txt',X_train.iloc[:,2])\n"
   ]
  }
 ],
 "metadata": {
  "kernelspec": {
   "display_name": "Python 3",
   "language": "python",
   "name": "python3"
  },
  "language_info": {
   "codemirror_mode": {
    "name": "ipython",
    "version": 3
   },
   "file_extension": ".py",
   "mimetype": "text/x-python",
   "name": "python",
   "nbconvert_exporter": "python",
   "pygments_lexer": "ipython3",
   "version": "3.7.1"
  }
 },
 "nbformat": 4,
 "nbformat_minor": 2
}
