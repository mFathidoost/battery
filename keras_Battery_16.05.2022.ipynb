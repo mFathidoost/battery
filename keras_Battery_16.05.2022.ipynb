{
 "cells": [
  {
   "cell_type": "code",
   "execution_count": 1,
   "metadata": {},
   "outputs": [
    {
     "name": "stderr",
     "output_type": "stream",
     "text": [
      "Using TensorFlow backend.\n",
      "C:\\Users\\mfath\\Anaconda3\\lib\\site-packages\\tensorflow\\python\\framework\\dtypes.py:526: FutureWarning: Passing (type, 1) or '1type' as a synonym of type is deprecated; in a future version of numpy, it will be understood as (type, (1,)) / '(1,)type'.\n",
      "  _np_qint8 = np.dtype([(\"qint8\", np.int8, 1)])\n",
      "C:\\Users\\mfath\\Anaconda3\\lib\\site-packages\\tensorflow\\python\\framework\\dtypes.py:527: FutureWarning: Passing (type, 1) or '1type' as a synonym of type is deprecated; in a future version of numpy, it will be understood as (type, (1,)) / '(1,)type'.\n",
      "  _np_quint8 = np.dtype([(\"quint8\", np.uint8, 1)])\n",
      "C:\\Users\\mfath\\Anaconda3\\lib\\site-packages\\tensorflow\\python\\framework\\dtypes.py:528: FutureWarning: Passing (type, 1) or '1type' as a synonym of type is deprecated; in a future version of numpy, it will be understood as (type, (1,)) / '(1,)type'.\n",
      "  _np_qint16 = np.dtype([(\"qint16\", np.int16, 1)])\n",
      "C:\\Users\\mfath\\Anaconda3\\lib\\site-packages\\tensorflow\\python\\framework\\dtypes.py:529: FutureWarning: Passing (type, 1) or '1type' as a synonym of type is deprecated; in a future version of numpy, it will be understood as (type, (1,)) / '(1,)type'.\n",
      "  _np_quint16 = np.dtype([(\"quint16\", np.uint16, 1)])\n",
      "C:\\Users\\mfath\\Anaconda3\\lib\\site-packages\\tensorflow\\python\\framework\\dtypes.py:530: FutureWarning: Passing (type, 1) or '1type' as a synonym of type is deprecated; in a future version of numpy, it will be understood as (type, (1,)) / '(1,)type'.\n",
      "  _np_qint32 = np.dtype([(\"qint32\", np.int32, 1)])\n",
      "C:\\Users\\mfath\\Anaconda3\\lib\\site-packages\\tensorflow\\python\\framework\\dtypes.py:535: FutureWarning: Passing (type, 1) or '1type' as a synonym of type is deprecated; in a future version of numpy, it will be understood as (type, (1,)) / '(1,)type'.\n",
      "  np_resource = np.dtype([(\"resource\", np.ubyte, 1)])\n"
     ]
    }
   ],
   "source": [
    "import numpy as np\n",
    "import matplotlib.pyplot as plt\n",
    "from sklearn.svm import SVR\n",
    "%matplotlib inline\n",
    "import seaborn as sns\n",
    "from sklearn.model_selection import train_test_split\n",
    "import pandas as pd\n",
    "from sklearn import tree\n",
    "from sklearn.metrics import mean_squared_error ,mean_absolute_error\n",
    "from sklearn.preprocessing import StandardScaler \n",
    "from sklearn.preprocessing import MinMaxScaler \n",
    "\n",
    "from sklearn.tree import DecisionTreeRegressor\n",
    "from sklearn.neural_network import MLPRegressor\n",
    "from sklearn.metrics import mean_squared_error \n",
    "from sklearn.metrics import r2_score\n",
    "from keras.losses import MeanAbsolutePercentageError\n",
    "import joblib\n",
    "import tensorflow as tf\n",
    "from tensorflow import keras\n",
    "from tensorflow.keras import layers\n",
    "import pandas as pd\n",
    "from numpy import loadtxt\n",
    "from numpy import loadtxt\n",
    "from keras.models import Sequential\n",
    "from keras.layers import Dense"
   ]
  },
  {
   "cell_type": "code",
   "execution_count": 3,
   "metadata": {},
   "outputs": [
    {
     "data": {
      "text/html": [
       "<div>\n",
       "<style scoped>\n",
       "    .dataframe tbody tr th:only-of-type {\n",
       "        vertical-align: middle;\n",
       "    }\n",
       "\n",
       "    .dataframe tbody tr th {\n",
       "        vertical-align: top;\n",
       "    }\n",
       "\n",
       "    .dataframe thead th {\n",
       "        text-align: right;\n",
       "    }\n",
       "</style>\n",
       "<table border=\"1\" class=\"dataframe\">\n",
       "  <thead>\n",
       "    <tr style=\"text-align: right;\">\n",
       "      <th></th>\n",
       "      <th>Gc</th>\n",
       "      <th>j</th>\n",
       "      <th>c_old</th>\n",
       "      <th>soc_old</th>\n",
       "      <th>c_dot</th>\n",
       "      <th>soc_dot</th>\n",
       "      <th>d_dot</th>\n",
       "    </tr>\n",
       "  </thead>\n",
       "  <tbody>\n",
       "    <tr>\n",
       "      <th>0</th>\n",
       "      <td>4.21</td>\n",
       "      <td>-0.3000</td>\n",
       "      <td>0.500000</td>\n",
       "      <td>0.500000</td>\n",
       "      <td>7.409167</td>\n",
       "      <td>0.600128</td>\n",
       "      <td>0.000000</td>\n",
       "    </tr>\n",
       "    <tr>\n",
       "      <th>1</th>\n",
       "      <td>4.21</td>\n",
       "      <td>-0.3000</td>\n",
       "      <td>0.507409</td>\n",
       "      <td>0.500600</td>\n",
       "      <td>3.954095</td>\n",
       "      <td>0.600128</td>\n",
       "      <td>0.000000</td>\n",
       "    </tr>\n",
       "    <tr>\n",
       "      <th>2</th>\n",
       "      <td>4.21</td>\n",
       "      <td>-0.3000</td>\n",
       "      <td>0.511363</td>\n",
       "      <td>0.501200</td>\n",
       "      <td>2.974950</td>\n",
       "      <td>0.600129</td>\n",
       "      <td>0.000000</td>\n",
       "    </tr>\n",
       "    <tr>\n",
       "      <th>3</th>\n",
       "      <td>4.21</td>\n",
       "      <td>-0.3000</td>\n",
       "      <td>0.514338</td>\n",
       "      <td>0.501800</td>\n",
       "      <td>2.501118</td>\n",
       "      <td>0.600128</td>\n",
       "      <td>0.000000</td>\n",
       "    </tr>\n",
       "    <tr>\n",
       "      <th>4</th>\n",
       "      <td>4.21</td>\n",
       "      <td>-0.3000</td>\n",
       "      <td>0.516839</td>\n",
       "      <td>0.502401</td>\n",
       "      <td>2.208906</td>\n",
       "      <td>0.600128</td>\n",
       "      <td>0.000000</td>\n",
       "    </tr>\n",
       "    <tr>\n",
       "      <th>...</th>\n",
       "      <td>...</td>\n",
       "      <td>...</td>\n",
       "      <td>...</td>\n",
       "      <td>...</td>\n",
       "      <td>...</td>\n",
       "      <td>...</td>\n",
       "      <td>...</td>\n",
       "    </tr>\n",
       "    <tr>\n",
       "      <th>12299</th>\n",
       "      <td>13.92</td>\n",
       "      <td>-0.0001</td>\n",
       "      <td>0.987004</td>\n",
       "      <td>0.987094</td>\n",
       "      <td>0.000201</td>\n",
       "      <td>0.000200</td>\n",
       "      <td>0.000086</td>\n",
       "    </tr>\n",
       "    <tr>\n",
       "      <th>12300</th>\n",
       "      <td>13.92</td>\n",
       "      <td>-0.0001</td>\n",
       "      <td>0.990530</td>\n",
       "      <td>0.990594</td>\n",
       "      <td>0.000202</td>\n",
       "      <td>0.000200</td>\n",
       "      <td>0.000087</td>\n",
       "    </tr>\n",
       "    <tr>\n",
       "      <th>12301</th>\n",
       "      <td>13.92</td>\n",
       "      <td>-0.0001</td>\n",
       "      <td>0.994061</td>\n",
       "      <td>0.994095</td>\n",
       "      <td>0.000202</td>\n",
       "      <td>0.000200</td>\n",
       "      <td>0.000089</td>\n",
       "    </tr>\n",
       "    <tr>\n",
       "      <th>12302</th>\n",
       "      <td>13.92</td>\n",
       "      <td>-0.0001</td>\n",
       "      <td>0.997600</td>\n",
       "      <td>0.997596</td>\n",
       "      <td>0.000202</td>\n",
       "      <td>0.000200</td>\n",
       "      <td>0.000093</td>\n",
       "    </tr>\n",
       "    <tr>\n",
       "      <th>12303</th>\n",
       "      <td>13.92</td>\n",
       "      <td>-0.0001</td>\n",
       "      <td>1.000133</td>\n",
       "      <td>1.000096</td>\n",
       "      <td>0.000203</td>\n",
       "      <td>0.000200</td>\n",
       "      <td>0.000093</td>\n",
       "    </tr>\n",
       "  </tbody>\n",
       "</table>\n",
       "<p>12304 rows × 7 columns</p>\n",
       "</div>"
      ],
      "text/plain": [
       "          Gc       j     c_old   soc_old     c_dot   soc_dot     d_dot\n",
       "0       4.21 -0.3000  0.500000  0.500000  7.409167  0.600128  0.000000\n",
       "1       4.21 -0.3000  0.507409  0.500600  3.954095  0.600128  0.000000\n",
       "2       4.21 -0.3000  0.511363  0.501200  2.974950  0.600129  0.000000\n",
       "3       4.21 -0.3000  0.514338  0.501800  2.501118  0.600128  0.000000\n",
       "4       4.21 -0.3000  0.516839  0.502401  2.208906  0.600128  0.000000\n",
       "...      ...     ...       ...       ...       ...       ...       ...\n",
       "12299  13.92 -0.0001  0.987004  0.987094  0.000201  0.000200  0.000086\n",
       "12300  13.92 -0.0001  0.990530  0.990594  0.000202  0.000200  0.000087\n",
       "12301  13.92 -0.0001  0.994061  0.994095  0.000202  0.000200  0.000089\n",
       "12302  13.92 -0.0001  0.997600  0.997596  0.000202  0.000200  0.000093\n",
       "12303  13.92 -0.0001  1.000133  1.000096  0.000203  0.000200  0.000093\n",
       "\n",
       "[12304 rows x 7 columns]"
      ]
     },
     "execution_count": 3,
     "metadata": {},
     "output_type": "execute_result"
    }
   ],
   "source": [
    "#read file\n",
    "read_file= pd.read_csv('final_data.txt', sep='\t')\n",
    "data=read_file\n",
    "data=data.dropna()\n",
    "data=data.astype(float)\n",
    "data.columns=['Gc','j','c_old','soc_old','c_dot','soc_dot','d_dot']\n",
    "df=data\n",
    "#df\n",
    "df"
   ]
  },
  {
   "cell_type": "code",
   "execution_count": 4,
   "metadata": {},
   "outputs": [],
   "source": [
    "#df.iloc[:,0]"
   ]
  },
  {
   "cell_type": "code",
   "execution_count": 5,
   "metadata": {},
   "outputs": [
    {
     "name": "stdout",
     "output_type": "stream",
     "text": [
      "4.21\n",
      "13.92\n"
     ]
    }
   ],
   "source": [
    "#GC\n",
    "print(min(df.iloc[:,0]))\n",
    "print(max(df.iloc[:,0]))"
   ]
  },
  {
   "cell_type": "code",
   "execution_count": 6,
   "metadata": {},
   "outputs": [
    {
     "name": "stdout",
     "output_type": "stream",
     "text": [
      "-0.3\n",
      "-0.0001\n"
     ]
    }
   ],
   "source": [
    "#j\n",
    "print(min(df.iloc[:,1]))\n",
    "print(max(df.iloc[:,1]))"
   ]
  },
  {
   "cell_type": "code",
   "execution_count": 7,
   "metadata": {},
   "outputs": [
    {
     "name": "stdout",
     "output_type": "stream",
     "text": [
      "0.5\n",
      "1.003217186101\n"
     ]
    }
   ],
   "source": [
    "#c_old\n",
    "print(min(df.iloc[:,2]))\n",
    "print(max(df.iloc[:,2]))"
   ]
  },
  {
   "cell_type": "code",
   "execution_count": 8,
   "metadata": {},
   "outputs": [
    {
     "name": "stdout",
     "output_type": "stream",
     "text": [
      "0.5\n",
      "1.0013275128919998\n"
     ]
    }
   ],
   "source": [
    "#soc_old\n",
    "print(min(df.iloc[:,3]))\n",
    "print(max(df.iloc[:,3]))"
   ]
  },
  {
   "cell_type": "code",
   "execution_count": 9,
   "metadata": {},
   "outputs": [
    {
     "name": "stdout",
     "output_type": "stream",
     "text": [
      "0.000199480131\n",
      "7.409167018\n"
     ]
    }
   ],
   "source": [
    "#c_dot\n",
    "print(min(df.iloc[:,4]))\n",
    "print(max(df.iloc[:,4]))"
   ]
  },
  {
   "cell_type": "code",
   "execution_count": 10,
   "metadata": {},
   "outputs": [
    {
     "name": "stdout",
     "output_type": "stream",
     "text": [
      "0.000199733153\n",
      "0.600129\n"
     ]
    }
   ],
   "source": [
    "#soc_dot\n",
    "print(min(df.iloc[:,5]))\n",
    "print(max(df.iloc[:,5]))"
   ]
  },
  {
   "cell_type": "code",
   "execution_count": 11,
   "metadata": {},
   "outputs": [
    {
     "name": "stdout",
     "output_type": "stream",
     "text": [
      "-3.3494799999999997e-06\n",
      "1.549443\n"
     ]
    }
   ],
   "source": [
    "#d_dot\n",
    "print(min(df.iloc[:,6]))\n",
    "print(max(df.iloc[:,6]))"
   ]
  },
  {
   "cell_type": "code",
   "execution_count": 12,
   "metadata": {},
   "outputs": [
    {
     "data": {
      "text/plain": [
       "[4.21, 5.97, 13.92]"
      ]
     },
     "execution_count": 12,
     "metadata": {},
     "output_type": "execute_result"
    }
   ],
   "source": [
    "list(dict.fromkeys(df.iloc[:,0]))"
   ]
  },
  {
   "cell_type": "code",
   "execution_count": 13,
   "metadata": {},
   "outputs": [],
   "source": [
    "#list(dict.fromkeys(df['j']))"
   ]
  },
  {
   "cell_type": "code",
   "execution_count": 14,
   "metadata": {},
   "outputs": [],
   "source": [
    "#log J\n",
    "df.iloc[:,1]=-np.log10( df.iloc[:,1]*-1)\n",
    "#df['soc_dot']=-np.log10( df['soc_dot'])\n",
    "#df['j']=-np.log10( df['j']*-1)  "
   ]
  },
  {
   "cell_type": "code",
   "execution_count": 15,
   "metadata": {},
   "outputs": [],
   "source": [
    "#df=df[df['j']<3.3]\n",
    "#df=df[df['j']>1]\n",
    "#df\n",
    "#-np.log10(0.008)"
   ]
  },
  {
   "cell_type": "code",
   "execution_count": 16,
   "metadata": {},
   "outputs": [
    {
     "data": {
      "text/html": [
       "<div>\n",
       "<style scoped>\n",
       "    .dataframe tbody tr th:only-of-type {\n",
       "        vertical-align: middle;\n",
       "    }\n",
       "\n",
       "    .dataframe tbody tr th {\n",
       "        vertical-align: top;\n",
       "    }\n",
       "\n",
       "    .dataframe thead th {\n",
       "        text-align: right;\n",
       "    }\n",
       "</style>\n",
       "<table border=\"1\" class=\"dataframe\">\n",
       "  <thead>\n",
       "    <tr style=\"text-align: right;\">\n",
       "      <th></th>\n",
       "      <th>Gc</th>\n",
       "      <th>j</th>\n",
       "      <th>c_old</th>\n",
       "      <th>soc_old</th>\n",
       "      <th>c_dot</th>\n",
       "      <th>soc_dot</th>\n",
       "      <th>d_dot</th>\n",
       "    </tr>\n",
       "  </thead>\n",
       "  <tbody>\n",
       "    <tr>\n",
       "      <th>0</th>\n",
       "      <td>4.21</td>\n",
       "      <td>0.522879</td>\n",
       "      <td>0.500000</td>\n",
       "      <td>0.500000</td>\n",
       "      <td>7.409167</td>\n",
       "      <td>0.600128</td>\n",
       "      <td>0.000000</td>\n",
       "    </tr>\n",
       "    <tr>\n",
       "      <th>1</th>\n",
       "      <td>4.21</td>\n",
       "      <td>0.522879</td>\n",
       "      <td>0.507409</td>\n",
       "      <td>0.500600</td>\n",
       "      <td>3.954095</td>\n",
       "      <td>0.600128</td>\n",
       "      <td>0.000000</td>\n",
       "    </tr>\n",
       "    <tr>\n",
       "      <th>2</th>\n",
       "      <td>4.21</td>\n",
       "      <td>0.522879</td>\n",
       "      <td>0.511363</td>\n",
       "      <td>0.501200</td>\n",
       "      <td>2.974950</td>\n",
       "      <td>0.600129</td>\n",
       "      <td>0.000000</td>\n",
       "    </tr>\n",
       "    <tr>\n",
       "      <th>3</th>\n",
       "      <td>4.21</td>\n",
       "      <td>0.522879</td>\n",
       "      <td>0.514338</td>\n",
       "      <td>0.501800</td>\n",
       "      <td>2.501118</td>\n",
       "      <td>0.600128</td>\n",
       "      <td>0.000000</td>\n",
       "    </tr>\n",
       "    <tr>\n",
       "      <th>4</th>\n",
       "      <td>4.21</td>\n",
       "      <td>0.522879</td>\n",
       "      <td>0.516839</td>\n",
       "      <td>0.502401</td>\n",
       "      <td>2.208906</td>\n",
       "      <td>0.600128</td>\n",
       "      <td>0.000000</td>\n",
       "    </tr>\n",
       "    <tr>\n",
       "      <th>...</th>\n",
       "      <td>...</td>\n",
       "      <td>...</td>\n",
       "      <td>...</td>\n",
       "      <td>...</td>\n",
       "      <td>...</td>\n",
       "      <td>...</td>\n",
       "      <td>...</td>\n",
       "    </tr>\n",
       "    <tr>\n",
       "      <th>12299</th>\n",
       "      <td>13.92</td>\n",
       "      <td>4.000000</td>\n",
       "      <td>0.987004</td>\n",
       "      <td>0.987094</td>\n",
       "      <td>0.000201</td>\n",
       "      <td>0.000200</td>\n",
       "      <td>0.000086</td>\n",
       "    </tr>\n",
       "    <tr>\n",
       "      <th>12300</th>\n",
       "      <td>13.92</td>\n",
       "      <td>4.000000</td>\n",
       "      <td>0.990530</td>\n",
       "      <td>0.990594</td>\n",
       "      <td>0.000202</td>\n",
       "      <td>0.000200</td>\n",
       "      <td>0.000087</td>\n",
       "    </tr>\n",
       "    <tr>\n",
       "      <th>12301</th>\n",
       "      <td>13.92</td>\n",
       "      <td>4.000000</td>\n",
       "      <td>0.994061</td>\n",
       "      <td>0.994095</td>\n",
       "      <td>0.000202</td>\n",
       "      <td>0.000200</td>\n",
       "      <td>0.000089</td>\n",
       "    </tr>\n",
       "    <tr>\n",
       "      <th>12302</th>\n",
       "      <td>13.92</td>\n",
       "      <td>4.000000</td>\n",
       "      <td>0.997600</td>\n",
       "      <td>0.997596</td>\n",
       "      <td>0.000202</td>\n",
       "      <td>0.000200</td>\n",
       "      <td>0.000093</td>\n",
       "    </tr>\n",
       "    <tr>\n",
       "      <th>12303</th>\n",
       "      <td>13.92</td>\n",
       "      <td>4.000000</td>\n",
       "      <td>1.000133</td>\n",
       "      <td>1.000096</td>\n",
       "      <td>0.000203</td>\n",
       "      <td>0.000200</td>\n",
       "      <td>0.000093</td>\n",
       "    </tr>\n",
       "  </tbody>\n",
       "</table>\n",
       "<p>12304 rows × 7 columns</p>\n",
       "</div>"
      ],
      "text/plain": [
       "          Gc         j     c_old   soc_old     c_dot   soc_dot     d_dot\n",
       "0       4.21  0.522879  0.500000  0.500000  7.409167  0.600128  0.000000\n",
       "1       4.21  0.522879  0.507409  0.500600  3.954095  0.600128  0.000000\n",
       "2       4.21  0.522879  0.511363  0.501200  2.974950  0.600129  0.000000\n",
       "3       4.21  0.522879  0.514338  0.501800  2.501118  0.600128  0.000000\n",
       "4       4.21  0.522879  0.516839  0.502401  2.208906  0.600128  0.000000\n",
       "...      ...       ...       ...       ...       ...       ...       ...\n",
       "12299  13.92  4.000000  0.987004  0.987094  0.000201  0.000200  0.000086\n",
       "12300  13.92  4.000000  0.990530  0.990594  0.000202  0.000200  0.000087\n",
       "12301  13.92  4.000000  0.994061  0.994095  0.000202  0.000200  0.000089\n",
       "12302  13.92  4.000000  0.997600  0.997596  0.000202  0.000200  0.000093\n",
       "12303  13.92  4.000000  1.000133  1.000096  0.000203  0.000200  0.000093\n",
       "\n",
       "[12304 rows x 7 columns]"
      ]
     },
     "execution_count": 16,
     "metadata": {},
     "output_type": "execute_result"
    }
   ],
   "source": [
    "df"
   ]
  },
  {
   "cell_type": "code",
   "execution_count": 17,
   "metadata": {},
   "outputs": [
    {
     "data": {
      "text/plain": [
       "(0, 0.006)"
      ]
     },
     "execution_count": 17,
     "metadata": {},
     "output_type": "execute_result"
    },
    {
     "data": {
      "image/png": "[encoded data removed]",
      "text/plain": [
       "<Figure size 432x288 with 1 Axes>"
      ]
     },
     "metadata": {
      "needs_background": "light"
     },
     "output_type": "display_data"
    }
   ],
   "source": [
    "plt.scatter(df.iloc[:,6],df.iloc[:,1],marker='.')\n",
    "plt.xlabel('c_dot')\n",
    "plt.ylabel('j')\n",
    "plt.xlim(0,0.006)"
   ]
  },
  {
   "cell_type": "code",
   "execution_count": 18,
   "metadata": {},
   "outputs": [],
   "source": [
    "#df=df[df['J']<-0.001]\n"
   ]
  },
  {
   "cell_type": "code",
   "execution_count": 19,
   "metadata": {},
   "outputs": [],
   "source": [
    "#data_num = data.to_numpy()\n",
    "#print(data_num[0,:])"
   ]
  },
  {
   "cell_type": "code",
   "execution_count": 20,
   "metadata": {},
   "outputs": [],
   "source": [
    "#reduced_data = np.array([])\n",
    "#reduced_data2 = np.array([])\n",
    "\n",
    "#number = 0\n",
    "\n",
    "# for i in data_num[:]:\n",
    "    \n",
    "#     if i[0] <= -0.25:\n",
    "        \n",
    "#         number += 1\n",
    "#         #print(number)\n",
    "#         reduced_data = np.append(reduced_data, i, axis = 0 )\n",
    "#         #reduced_data.append(i)\n",
    "    \n",
    "#     else:\n",
    "        #max\n",
    "#         reduced_data2 = np.append(reduced_data2, i, axis = 0 )\n",
    "        \n",
    "    \n",
    "# reduced_data = np.reshape(reduced_data, (int(reduced_data.shape[0]/3), 3))\n",
    "\n",
    "# print(\" number of elements for j < -0. 25 size is \",reduced_data.shape)\n",
    "\n",
    "\n",
    "# reduced_data2 = np.reshape(reduced_data2, (int(reduced_data2.shape[0]/3), 3))\n",
    "\n",
    "# print(\" number of elements for j > -0. 25 size is \", reduced_data2.shape)\n",
    "\n",
    "# print( \"In total there are  \" + str(int(reduced_data.shape[0]) + int(reduced_data2.shape[0])) + \" samples\")\n"
   ]
  },
  {
   "cell_type": "code",
   "execution_count": 21,
   "metadata": {},
   "outputs": [],
   "source": [
    "#plt.hist(reduced_data[:,0])"
   ]
  },
  {
   "cell_type": "code",
   "execution_count": 22,
   "metadata": {},
   "outputs": [],
   "source": [
    "#plt.hist(reduced_data2[:,0])\n"
   ]
  },
  {
   "cell_type": "code",
   "execution_count": 23,
   "metadata": {},
   "outputs": [
    {
     "data": {
      "image/png": "[encoded data removed]",
      "text/plain": [
       "<Figure size 432x288 with 1 Axes>"
      ]
     },
     "metadata": {
      "needs_background": "light"
     },
     "output_type": "display_data"
    }
   ],
   "source": [
    "#j\n",
    "plt.hist(df.iloc[:,1], bins=50)\n",
    "# #plt.ylim(0.2,0.4)\n",
    "# plt.xlim(-0.1,0)\n",
    "\n",
    "plt.xlabel('j')\n",
    "plt.ylabel('number')\n",
    "plt.show()"
   ]
  },
  {
   "cell_type": "code",
   "execution_count": 24,
   "metadata": {},
   "outputs": [
    {
     "data": {
      "image/png": "[encoded data removed]",
      "text/plain": [
       "<Figure size 432x288 with 1 Axes>"
      ]
     },
     "metadata": {
      "needs_background": "light"
     },
     "output_type": "display_data"
    }
   ],
   "source": [
    "#c_old\n",
    "plt.hist(df['c_old'])\n",
    "# #plt.ylim(0.2,0.4)\n",
    "# plt.xlim(-0.1,0)\n",
    "plt.show()"
   ]
  },
  {
   "cell_type": "code",
   "execution_count": 25,
   "metadata": {},
   "outputs": [
    {
     "data": {
      "image/png": "[encoded data removed]",
      "text/plain": [
       "<Figure size 432x288 with 1 Axes>"
      ]
     },
     "metadata": {
      "needs_background": "light"
     },
     "output_type": "display_data"
    }
   ],
   "source": [
    "plt.hist(df['j'],bins=25)\n",
    "# #plt.ylim(0.2,0.4)\n",
    "# plt.xlim(-0.1,0)\n",
    "plt.show()"
   ]
  },
  {
   "cell_type": "code",
   "execution_count": 26,
   "metadata": {},
   "outputs": [
    {
     "data": {
      "image/png": "[encoded data removed]",
      "text/plain": [
       "<Figure size 432x288 with 1 Axes>"
      ]
     },
     "metadata": {
      "needs_background": "light"
     },
     "output_type": "display_data"
    }
   ],
   "source": [
    "plt.hist(df['soc_dot'],bins=50)\n",
    "# #plt.ylim(0.2,0.4)\n",
    "# plt.xlim(-0.1,0)\n",
    "plt.show()"
   ]
  },
  {
   "cell_type": "code",
   "execution_count": 27,
   "metadata": {},
   "outputs": [
    {
     "name": "stdout",
     "output_type": "stream",
     "text": [
      "0.000199480131\n",
      "7.409167018\n"
     ]
    }
   ],
   "source": [
    "print(min(df['c_dot']))\n",
    "print(max(df['c_dot']))"
   ]
  },
  {
   "cell_type": "code",
   "execution_count": 28,
   "metadata": {},
   "outputs": [],
   "source": [
    "df=df[df['j']>2.5]\n",
    "#df"
   ]
  },
  {
   "cell_type": "markdown",
   "metadata": {},
   "source": [
    "## transformation"
   ]
  },
  {
   "cell_type": "code",
   "execution_count": 29,
   "metadata": {},
   "outputs": [],
   "source": [
    "X=df.iloc[:,0:4]\n",
    "y=df.iloc[:,4:7]\n",
    "X_train, X_test, y_train, y_test= train_test_split(X, y, test_size=0.25,random_state=40)\n",
    "\n",
    "from sklearn.preprocessing import MinMaxScaler \n",
    "#scaler = StandardScaler()\n",
    "\n",
    "scaler = MinMaxScaler()\n",
    "\n",
    "scaler.fit(X_train)\n",
    "X_train_scaled_data=scaler.transform(X_train)\n",
    "X_test_scaled_data=scaler.transform(X_test)\n",
    "\n",
    "scaler_y = MinMaxScaler()\n",
    "\n",
    "#scaler_y = StandardScaler()\n",
    "scaler_y.fit(np.array(y_train))\n",
    "y_train_scaled_data=scaler_y.transform(np.array(y_train))\n",
    "y_test_scaled_data=scaler_y.transform(np.array(y_test))"
   ]
  },
  {
   "cell_type": "code",
   "execution_count": 29,
   "metadata": {},
   "outputs": [],
   "source": [
    "# model = Sequential()\n",
    "# model.add(Dense(1024*6, input_dim=4, activation='relu'))\n",
    "# #model.add(Dense(32, activation='relu'))\n",
    "# model.add(Dense(3,activation='relu'))\n",
    "# # compile the keras model\n",
    "# model.compile(loss='mse', optimizer='adam', metrics=['accuracy'])"
   ]
  },
  {
   "cell_type": "code",
   "execution_count": 30,
   "metadata": {},
   "outputs": [],
   "source": [
    "# history=model.fit(X_train_scaled_data, y_train_scaled_data, epochs=1000, batch_size=10)"
   ]
  },
  {
   "cell_type": "code",
   "execution_count": 31,
   "metadata": {},
   "outputs": [],
   "source": [
    "# y_pred = model.predict(X_test_scaled_data)\n",
    "# y_pred_train= model.predict(X_train_scaled_data)\n",
    "# mseMLP = mean_squared_error(y_test_scaled_data, y_pred)\n",
    "# maeMLP = mean_absolute_error(y_test_scaled_data, y_pred)\n",
    "# print(\"Train R2 score MLP: {:.5f}\".format(r2_score(y_pred_train, y_train_scaled_data)))\n",
    "# print(\"Test R2 score MLP: {:.5f}\".format(r2_score(y_pred, y_test_scaled_data)))\n",
    "# print(\"MSE MLP: %.4f\" % mseMLP)  \n",
    "# print(\"MAE MLP:\", maeMLP)"
   ]
  },
  {
   "cell_type": "code",
   "execution_count": 32,
   "metadata": {},
   "outputs": [],
   "source": [
    "##filename = 'model_V2_06_1000.sav'\n",
    "#joblib.dump(model, filename)\n",
    "#np.savetxt('history_V1.txt',history)"
   ]
  },
  {
   "cell_type": "code",
   "execution_count": 33,
   "metadata": {},
   "outputs": [],
   "source": [
    "#history"
   ]
  },
  {
   "cell_type": "code",
   "execution_count": 34,
   "metadata": {},
   "outputs": [],
   "source": [
    "#import joblib\n",
    "#model= joblib.load('keras_1024_200_v2.sav')"
   ]
  },
  {
   "cell_type": "code",
   "execution_count": 30,
   "metadata": {},
   "outputs": [
    {
     "name": "stdout",
     "output_type": "stream",
     "text": [
      "WARNING:tensorflow:From C:\\Users\\mfath\\Anaconda3\\lib\\site-packages\\tensorflow\\python\\ops\\resource_variable_ops.py:435: colocate_with (from tensorflow.python.framework.ops) is deprecated and will be removed in a future version.\n",
      "Instructions for updating:\n",
      "Colocations handled automatically by placer.\n",
      "WARNING:tensorflow:From C:\\Users\\mfath\\Anaconda3\\lib\\site-packages\\tensorflow\\python\\ops\\math_ops.py:3066: to_int32 (from tensorflow.python.ops.math_ops) is deprecated and will be removed in a future version.\n",
      "Instructions for updating:\n",
      "Use tf.cast instead.\n",
      "MSE MLP: 0.0000\n",
      "MAE MLP: 0.002002259488186695\n"
     ]
    }
   ],
   "source": [
    "# #load the saved model and test the performance\n",
    "import joblib\n",
    "M_s= joblib.load('model_128_1000_101021.sav')\n",
    "y_pred = M_s.predict(X_test_scaled_data)\n",
    "y_pred_train= M_s.predict(X_train_scaled_data)\n",
    "mseMLP = mean_squared_error(y_test_scaled_data, y_pred)\n",
    "\n",
    "#print(\"Train R2 score MLP: {:.5f}\".format(M_s.score(X_train_scaled_data, y_train_scaled_data)))\n",
    "\n",
    "\n",
    "#print(\"Test R2 score MLP: {:.5f}\".format(M_s.score(X_test_scaled_data, y_test_scaled_data)))\n",
    "\n",
    "\n",
    "\n",
    "print(\"MSE MLP: %.4f\" % mseMLP)\n",
    "\n",
    "\n",
    "print(\"MAE MLP:\", mean_absolute_error(y_test_scaled_data, y_pred))"
   ]
  },
  {
   "cell_type": "code",
   "execution_count": 32,
   "metadata": {},
   "outputs": [
    {
     "name": "stdout",
     "output_type": "stream",
     "text": [
      "Train R2 score MLP: 0.99184\n",
      "Test R2 score MLP: 0.99199\n",
      "MSE test MLP: 0.0000\n",
      "MAE MLP: 0.002002259488186695\n"
     ]
    }
   ],
   "source": [
    "y_pred = M_s.predict(X_test_scaled_data)\n",
    "y_pred_train= M_s.predict(X_train_scaled_data)\n",
    "mseMLP = mean_squared_error(y_test_scaled_data, y_pred)\n",
    "maeMLP = mean_absolute_error(y_test_scaled_data, y_pred)\n",
    "print(\"Train R2 score MLP: {:.5f}\".format(r2_score(y_pred_train, y_train_scaled_data)))\n",
    "print(\"Test R2 score MLP: {:.5f}\".format(r2_score(y_pred, y_test_scaled_data)))\n",
    "print(\"MSE test MLP: %.4f\" % mseMLP)  \n",
    "print(\"MAE MLP:\", maeMLP)"
   ]
  },
  {
   "cell_type": "code",
   "execution_count": 33,
   "metadata": {},
   "outputs": [
    {
     "data": {
      "text/plain": [
       "<matplotlib.legend.Legend at 0x1f087e38e10>"
      ]
     },
     "execution_count": 33,
     "metadata": {},
     "output_type": "execute_result"
    },
    {
     "data": {
      "image/png": "[encoded data removed]",
      "text/plain": [
       "<Figure size 432x288 with 1 Axes>"
      ]
     },
     "metadata": {
      "needs_background": "light"
     },
     "output_type": "display_data"
    }
   ],
   "source": [
    "plt.scatter(np.array(y_train.iloc[:,0]),scaler_y.inverse_transform(y_pred_train)[:,0],label='train')\n",
    "plt.scatter(np.array(y_test.iloc[:,0]),scaler_y.inverse_transform(y_pred)[:,0],label='test')\n",
    "plt.xlabel('C-dot calculated Numerically')\n",
    "plt.ylabel('C-dot predicted by ML Model')\n",
    "\n",
    "lims = [y_test.iloc[:,0].min(), y_test.iloc[:,0].max()]\n",
    "plt.xlim(lims)\n",
    "plt.ylim(lims)\n",
    "_ = plt.plot(lims, lims)\n",
    "\n",
    "_ = plt.plot(lims, lims)\n",
    "plt.legend()"
   ]
  },
  {
   "cell_type": "code",
   "execution_count": 34,
   "metadata": {},
   "outputs": [
    {
     "data": {
      "text/plain": [
       "<matplotlib.legend.Legend at 0x1f0880b5cc0>"
      ]
     },
     "execution_count": 34,
     "metadata": {},
     "output_type": "execute_result"
    },
    {
     "data": {
      "image/png": "[encoded data removed]",
      "text/plain": [
       "<Figure size 432x288 with 1 Axes>"
      ]
     },
     "metadata": {
      "needs_background": "light"
     },
     "output_type": "display_data"
    }
   ],
   "source": [
    "plt.scatter(np.array(y_train.iloc[:,1]),scaler_y.inverse_transform(y_pred_train)[:,1],marker='x',label='train')\n",
    "plt.scatter(np.array(y_test.iloc[:,1]),scaler_y.inverse_transform(y_pred)[:,1],marker='.',label='test')\n",
    "plt.xlabel('soc-dot calculated Numerically')\n",
    "plt.ylabel('soc-dot predicted by ML Model')\n",
    "\n",
    "lims = [y_test.iloc[:,1].min(), y_test.iloc[:,1].max()]\n",
    "plt.xlim(lims)\n",
    "plt.ylim(lims)\n",
    "#_ = plt.plot(lims, lims,color='g')\n",
    "\n",
    "#_ = plt.plot(lims, lims)\n",
    "plt.legend()"
   ]
  },
  {
   "cell_type": "code",
   "execution_count": 35,
   "metadata": {},
   "outputs": [
    {
     "data": {
      "text/plain": [
       "<matplotlib.legend.Legend at 0x1f085cf8710>"
      ]
     },
     "execution_count": 35,
     "metadata": {},
     "output_type": "execute_result"
    },
    {
     "data": {
      "image/png": "[encoded data removed]",
      "text/plain": [
       "<Figure size 432x288 with 1 Axes>"
      ]
     },
     "metadata": {
      "needs_background": "light"
     },
     "output_type": "display_data"
    }
   ],
   "source": [
    "plt.scatter(np.array(y_train.iloc[:,2]),scaler_y.inverse_transform(y_pred_train)[:,2],marker='x',label='train')\n",
    "plt.scatter(np.array(y_test.iloc[:,2]),scaler_y.inverse_transform(y_pred)[:,2],marker='.',label='test')\n",
    "plt.xlabel('d-dot calculated Numerically')\n",
    "plt.ylabel('d-dot predicted by ML Model')\n",
    "\n",
    "lims = [y_test.iloc[:,2].min(), y_test.iloc[:,2].max()]\n",
    "plt.xlim(lims)\n",
    "plt.ylim(lims)\n",
    "#_ = plt.plot(lims, lims,color='g')\n",
    "\n",
    "#_ = plt.plot(lims, lims)\n",
    "plt.legend()"
   ]
  },
  {
   "cell_type": "code",
   "execution_count": null,
   "metadata": {},
   "outputs": [],
   "source": [
    "#########################################################################################################################"
   ]
  }
 ],
 "metadata": {
  "kernelspec": {
   "display_name": "Python 3",
   "language": "python",
   "name": "python3"
  },
  "language_info": {
   "codemirror_mode": {
    "name": "ipython",
    "version": 3
   },
   "file_extension": ".py",
   "mimetype": "text/x-python",
   "name": "python",
   "nbconvert_exporter": "python",
   "pygments_lexer": "ipython3",
   "version": "3.7.1"
  }
 },
 "nbformat": 4,
 "nbformat_minor": 2
}
